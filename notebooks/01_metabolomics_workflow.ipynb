{
 "cells": [
  {
   "cell_type": "markdown",
   "metadata": {},
   "source": [
    "# MetaboAnalystR Workflow\n",
    "\n",
    "This notebook demonstrates a complete metabolomics data analysis workflow using MetaboAnalystR. It covers:\n",
    "\n",
    "1. Data preparation and loading\n",
    "2. Data processing and normalization\n",
    "3. Statistical analysis (PCA)\n",
    "4. Visualization and result export\n",
    "\n",
    "Make sure you've successfully run `00_setup_and_validation.ipynb` before starting this workflow."
   ]
  },
  {
   "cell_type": "markdown",
   "metadata": {
    "vscode": {
     "languageId": "r"
    }
   },
   "source": [
    "## 1. Setup and Initialization\n",
    "\n",
    "Load required libraries and set up the working environment."
   ]
  },
  {
   "cell_type": "code",
   "execution_count": null,
   "metadata": {
    "vscode": {
     "languageId": "r"
    }
   },
   "outputs": [
    {
     "name": "stderr",
     "output_type": "stream",
     "text": [
      "MetaboAnalystR 4.0.0 initialized Successfully !\n",
      "https://github.com/xia-lab/MetaboAnalystR\n",
      "\n"
     ]
    },
    {
     "name": "stdout",
     "output_type": "stream",
     "text": [
      "MetaboAnalystR v4.0.0 loaded\n"
     ]
    }
   ],
   "source": [
    "# Initialize working directory\n",
    "project_root <- normalizePath(\"..\")\n",
    "setwd(project_root)\n",
    "\n",
    "# Helper function for path management\n",
    "get_path <- function(subdir) {\n",
    "    file.path(project_root, subdir)\n",
    "}\n",
    "\n",
    "# Load required libraries\n",
    "library(MetaboAnalystR)\n",
    "cat(sprintf(\"MetaboAnalystR v%s loaded\\n\", packageVersion(\"MetaboAnalystR\")))\n",
    "\n",
    "# Create processing log function\n",
    "log_process <- function(message, log_file = file.path(get_path(\"data/processed\"), \"processing_log.txt\")) {\n",
    "    timestamp <- format(Sys.time(), \"%Y-%m-%d %H:%M:%S\")\n",
    "    log_entry <- sprintf(\"[%s] %s\\n\", timestamp, message)\n",
    "    cat(log_entry)\n",
    "    cat(log_entry, file = log_file, append = TRUE)\n",
    "}"
   ]
  },
  {
   "cell_type": "markdown",
   "metadata": {},
   "source": [
    "## 2. Create Example Dataset\n",
    "\n",
    "Generate a sample metabolomics dataset for demonstration."
   ]
  },
  {
   "cell_type": "code",
   "execution_count": 2,
   "metadata": {
    "vscode": {
     "languageId": "r"
    }
   },
   "outputs": [
    {
     "name": "stdout",
     "output_type": "stream",
     "text": [
      "[2024-11-04 02:54:28] Created test dataset with 12 samples and 50 metabolites\n"
     ]
    },
    {
     "data": {
      "text/html": [
       "<table class=\"dataframe\">\n",
       "<caption>A data.frame: 6 × 8</caption>\n",
       "<thead>\n",
       "\t<tr><th></th><th scope=col>Sample</th><th scope=col>Group</th><th scope=col>Metabolite_1</th><th scope=col>Metabolite_2</th><th scope=col>Metabolite_3</th><th scope=col>Metabolite_4</th><th scope=col>Metabolite_5</th><th scope=col>Metabolite_6</th></tr>\n",
       "\t<tr><th></th><th scope=col>&lt;chr&gt;</th><th scope=col>&lt;chr&gt;</th><th scope=col>&lt;dbl&gt;</th><th scope=col>&lt;dbl&gt;</th><th scope=col>&lt;dbl&gt;</th><th scope=col>&lt;dbl&gt;</th><th scope=col>&lt;dbl&gt;</th><th scope=col>&lt;dbl&gt;</th></tr>\n",
       "</thead>\n",
       "<tbody>\n",
       "\t<tr><th scope=row>1</th><td>Sample_1</td><td>Control</td><td> 8.879049</td><td>10.801543</td><td> 8.749921</td><td>11.107835</td><td>11.559930</td><td>10.759279</td></tr>\n",
       "\t<tr><th scope=row>2</th><td>Sample_2</td><td>Control</td><td> 9.539645</td><td>10.221365</td><td> 6.626613</td><td> 9.876177</td><td> 9.833262</td><td> 8.995353</td></tr>\n",
       "\t<tr><th scope=row>3</th><td>Sample_3</td><td>Control</td><td>13.117417</td><td> 8.888318</td><td>11.675574</td><td> 9.388075</td><td>10.506637</td><td> 9.333585</td></tr>\n",
       "\t<tr><th scope=row>4</th><td>Sample_4</td><td>Control</td><td>10.141017</td><td>13.573826</td><td>10.306746</td><td> 9.239058</td><td> 9.942906</td><td> 7.962849</td></tr>\n",
       "\t<tr><th scope=row>5</th><td>Sample_5</td><td>Control</td><td>10.258575</td><td>10.995701</td><td> 7.723726</td><td> 8.610586</td><td> 9.914259</td><td> 7.856418</td></tr>\n",
       "\t<tr><th scope=row>6</th><td>Sample_6</td><td>Control</td><td>13.430130</td><td> 6.066766</td><td>12.507630</td><td> 9.584165</td><td>12.737205</td><td>10.607057</td></tr>\n",
       "</tbody>\n",
       "</table>\n"
      ],
      "text/latex": [
       "A data.frame: 6 × 8\n",
       "\\begin{tabular}{r|llllllll}\n",
       "  & Sample & Group & Metabolite\\_1 & Metabolite\\_2 & Metabolite\\_3 & Metabolite\\_4 & Metabolite\\_5 & Metabolite\\_6\\\\\n",
       "  & <chr> & <chr> & <dbl> & <dbl> & <dbl> & <dbl> & <dbl> & <dbl>\\\\\n",
       "\\hline\n",
       "\t1 & Sample\\_1 & Control &  8.879049 & 10.801543 &  8.749921 & 11.107835 & 11.559930 & 10.759279\\\\\n",
       "\t2 & Sample\\_2 & Control &  9.539645 & 10.221365 &  6.626613 &  9.876177 &  9.833262 &  8.995353\\\\\n",
       "\t3 & Sample\\_3 & Control & 13.117417 &  8.888318 & 11.675574 &  9.388075 & 10.506637 &  9.333585\\\\\n",
       "\t4 & Sample\\_4 & Control & 10.141017 & 13.573826 & 10.306746 &  9.239058 &  9.942906 &  7.962849\\\\\n",
       "\t5 & Sample\\_5 & Control & 10.258575 & 10.995701 &  7.723726 &  8.610586 &  9.914259 &  7.856418\\\\\n",
       "\t6 & Sample\\_6 & Control & 13.430130 &  6.066766 & 12.507630 &  9.584165 & 12.737205 & 10.607057\\\\\n",
       "\\end{tabular}\n"
      ],
      "text/markdown": [
       "\n",
       "A data.frame: 6 × 8\n",
       "\n",
       "| <!--/--> | Sample &lt;chr&gt; | Group &lt;chr&gt; | Metabolite_1 &lt;dbl&gt; | Metabolite_2 &lt;dbl&gt; | Metabolite_3 &lt;dbl&gt; | Metabolite_4 &lt;dbl&gt; | Metabolite_5 &lt;dbl&gt; | Metabolite_6 &lt;dbl&gt; |\n",
       "|---|---|---|---|---|---|---|---|---|\n",
       "| 1 | Sample_1 | Control |  8.879049 | 10.801543 |  8.749921 | 11.107835 | 11.559930 | 10.759279 |\n",
       "| 2 | Sample_2 | Control |  9.539645 | 10.221365 |  6.626613 |  9.876177 |  9.833262 |  8.995353 |\n",
       "| 3 | Sample_3 | Control | 13.117417 |  8.888318 | 11.675574 |  9.388075 | 10.506637 |  9.333585 |\n",
       "| 4 | Sample_4 | Control | 10.141017 | 13.573826 | 10.306746 |  9.239058 |  9.942906 |  7.962849 |\n",
       "| 5 | Sample_5 | Control | 10.258575 | 10.995701 |  7.723726 |  8.610586 |  9.914259 |  7.856418 |\n",
       "| 6 | Sample_6 | Control | 13.430130 |  6.066766 | 12.507630 |  9.584165 | 12.737205 | 10.607057 |\n",
       "\n"
      ],
      "text/plain": [
       "  Sample   Group   Metabolite_1 Metabolite_2 Metabolite_3 Metabolite_4\n",
       "1 Sample_1 Control  8.879049    10.801543     8.749921    11.107835   \n",
       "2 Sample_2 Control  9.539645    10.221365     6.626613     9.876177   \n",
       "3 Sample_3 Control 13.117417     8.888318    11.675574     9.388075   \n",
       "4 Sample_4 Control 10.141017    13.573826    10.306746     9.239058   \n",
       "5 Sample_5 Control 10.258575    10.995701     7.723726     8.610586   \n",
       "6 Sample_6 Control 13.430130     6.066766    12.507630     9.584165   \n",
       "  Metabolite_5 Metabolite_6\n",
       "1 11.559930    10.759279   \n",
       "2  9.833262     8.995353   \n",
       "3 10.506637     9.333585   \n",
       "4  9.942906     7.962849   \n",
       "5  9.914259     7.856418   \n",
       "6 12.737205    10.607057   "
      ]
     },
     "metadata": {},
     "output_type": "display_data"
    }
   ],
   "source": [
    "# Create sample metabolomics data\n",
    "set.seed(123)  # For reproducibility\n",
    "\n",
    "# Generate example data\n",
    "n_samples <- 12  # 6 control, 6 treatment\n",
    "n_metabolites <- 50\n",
    "\n",
    "# Create sample names and groups\n",
    "sample_names <- paste0(\"Sample_\", 1:n_samples)\n",
    "groups <- rep(c(\"Control\", \"Treatment\"), each = n_samples/2)\n",
    "\n",
    "# Generate metabolite data with biological variation\n",
    "metabolite_data <- matrix(rnorm(n_samples * n_metabolites, mean = 10, sd = 2), \n",
    "                         nrow = n_samples)\n",
    "\n",
    "# Add treatment effect to some metabolites\n",
    "effect_metabolites <- 1:10  # First 10 metabolites show treatment effect\n",
    "treatment_samples <- (n_samples/2 + 1):n_samples\n",
    "metabolite_data[treatment_samples, effect_metabolites] <- \n",
    "    metabolite_data[treatment_samples, effect_metabolites] + 2\n",
    "\n",
    "# Create metabolite names\n",
    "metabolite_names <- paste0(\"Metabolite_\", 1:n_metabolites)\n",
    "\n",
    "# Create data frame\n",
    "test_data <- data.frame(\n",
    "    Sample = sample_names,\n",
    "    Group = groups,\n",
    "    metabolite_data\n",
    ")\n",
    "names(test_data)[3:ncol(test_data)] <- metabolite_names\n",
    "\n",
    "# Save to data directory\n",
    "data_file <- file.path(get_path(\"data\"), \"test_metabolites.csv\")\n",
    "write.csv(test_data, data_file, row.names = FALSE)\n",
    "log_process(sprintf(\"Created test dataset with %d samples and %d metabolites\", n_samples, n_metabolites))\n",
    "\n",
    "# Display data preview\n",
    "head(test_data[, 1:8])"
   ]
  },
  {
   "cell_type": "markdown",
   "metadata": {},
   "source": [
    "## 3. Data Processing Pipeline\n",
    "\n",
    "Process the metabolomics data through standard preprocessing steps."
   ]
  },
  {
   "cell_type": "code",
   "execution_count": 3,
   "metadata": {
    "vscode": {
     "languageId": "r"
    }
   },
   "outputs": [
    {
     "name": "stdout",
     "output_type": "stream",
     "text": [
      "Starting Rserve:\n",
      " /home/ubuntu/miniconda3/envs/metaboanalystr/lib/R/bin/R CMD /home/ubuntu/miniconda3/envs/metaboanalystr/lib/R/library/Rserve/libs//Rserve --no-save \n",
      "\n",
      "[1] \"MetaboAnalyst R objects initialized ...\"\n",
      "[2024-11-04 02:55:12] Initialized MetaboAnalystR objects\n",
      "[2024-11-04 02:55:12] Loaded data file\n",
      " [1] \"Successfully passed sanity check!\"                                                                                \n",
      " [2] \"Samples are not paired.\"                                                                                          \n",
      " [3] \"2 groups were detected in samples.\"                                                                               \n",
      " [4] \"Only English letters, numbers, underscore, hyphen and forward slash (/) are allowed.\"                             \n",
      " [5] \"<font color=\\\"orange\\\">Other special characters or punctuations (if any) will be stripped off.</font>\"            \n",
      " [6] \"All data values are numeric.\"                                                                                     \n",
      " [7] \"A total of 0 (0%) missing values were detected.\"                                                                  \n",
      " [8] \"<u>By default, missing values will be replaced by 1/5 of min positive values of their corresponding variables</u>\"\n",
      " [9] \"Click the <b>Proceed</b> button if you accept the default practice;\"                                              \n",
      "[10] \"Or click the <b>Missing Values</b> button to use other methods.\"                                                  \n",
      "[2024-11-04 02:55:12] Completed sanity check\n",
      "[2024-11-04 02:55:13] Replaced minimum values\n",
      "[2024-11-04 02:55:13] Prepared data for normalization\n",
      "[2024-11-04 02:55:13] Completed normalization\n",
      "\n",
      "Normalization Summary:\n",
      "Samples: 12 \n",
      "Metabolites: 50 \n"
     ]
    }
   ],
   "source": [
    "# Initialize MetaboAnalystR\n",
    "mSet <- InitDataObjects(\"pktable\", \"stat\", FALSE)\n",
    "log_process(\"Initialized MetaboAnalystR objects\")\n",
    "\n",
    "# Read data\n",
    "mSet <- Read.TextData(mSet, data_file, \"rowu\", \"disc\")\n",
    "log_process(\"Loaded data file\")\n",
    "\n",
    "# Sanity check\n",
    "mSet <- SanityCheckData(mSet)\n",
    "log_process(\"Completed sanity check\")\n",
    "\n",
    "# Save raw data view\n",
    "raw_data <- mSet$dataSet$norm\n",
    "write.csv(raw_data, \n",
    "          file.path(get_path(\"data/processed\"), \"raw_dataview.csv\"),\n",
    "          row.names = TRUE)\n",
    "\n",
    "# Preprocessing steps\n",
    "# 1. Replace minimum values\n",
    "mSet <- ReplaceMin(mSet)\n",
    "log_process(\"Replaced minimum values\")\n",
    "\n",
    "# 2. Prepare for normalization\n",
    "mSet <- PreparePrenormData(mSet)\n",
    "log_process(\"Prepared data for normalization\")\n",
    "\n",
    "# 3. Perform normalization\n",
    "# Using log transformation and auto-scaling\n",
    "mSet <- Normalization(mSet, \"log\", \"auto\", \"MeanCenter\", ratio = FALSE)\n",
    "log_process(\"Completed normalization\")\n",
    "\n",
    "# Save normalized data\n",
    "norm_data <- mSet$dataSet$norm\n",
    "write.csv(norm_data, \n",
    "          file.path(get_path(\"data/processed\"), \"normalized_data.csv\"),\n",
    "          row.names = TRUE)\n",
    "\n",
    "# Display normalization summary\n",
    "cat(\"\\nNormalization Summary:\\n\")\n",
    "cat(\"Samples:\", nrow(norm_data), \"\\n\")\n",
    "cat(\"Metabolites:\", ncol(norm_data), \"\\n\")"
   ]
  },
  {
   "cell_type": "markdown",
   "metadata": {},
   "source": [
    "## 4. Principal Component Analysis (PCA)\n",
    "\n",
    "Perform PCA and create visualizations."
   ]
  },
  {
   "cell_type": "code",
   "execution_count": 4,
   "metadata": {
    "vscode": {
     "languageId": "r"
    }
   },
   "outputs": [
    {
     "name": "stdout",
     "output_type": "stream",
     "text": [
      "[2024-11-04 02:55:50] Completed PCA analysis\n",
      "[2024-11-04 02:55:50] Generated PCA plots\n"
     ]
    },
    {
     "data": {
      "image/png": "[encoded data removed]"
     },
     "metadata": {},
     "output_type": "display_data"
    },
    {
     "name": "stdout",
     "output_type": "stream",
     "text": [
      "PCA plot displayed\n"
     ]
    }
   ],
   "source": [
    "# Perform PCA\n",
    "mSet <- PCA.Anal(mSet)\n",
    "log_process(\"Completed PCA analysis\")\n",
    "\n",
    "# Save PCA results\n",
    "write.csv(mSet$analSet$pca$scores,\n",
    "          file.path(get_path(\"results\"), \"pca_scores.csv\"),\n",
    "          row.names = TRUE)\n",
    "write.csv(mSet$analSet$pca$loadings,\n",
    "          file.path(get_path(\"results\"), \"pca_loadings.csv\"),\n",
    "          row.names = TRUE)\n",
    "\n",
    "# Create PCA plot\n",
    "plot_file <- file.path(get_path(\"plots\"), \"pca_scores_2d\")\n",
    "mSet <- PlotPCA2DScore(mSet,\n",
    "                       plot_file,\n",
    "                       \"png\",\n",
    "                       72,\n",
    "                       width = NA,\n",
    "                       1,\n",
    "                       2)\n",
    "log_process(\"Generated PCA plots\")\n",
    "\n",
    "# Display PCA plot\n",
    "library(IRdisplay)\n",
    "png_file <- paste0(plot_file, \"dpi72.png\")\n",
    "if (file.exists(png_file)) {\n",
    "    display_png(file = png_file)\n",
    "    cat(\"PCA plot displayed\\n\")\n",
    "} else {\n",
    "    cat(\"PCA plot file not found at:\", png_file, \"\\n\")\n",
    "}"
   ]
  },
  {
   "cell_type": "markdown",
   "metadata": {},
   "source": [
    "## 5. Save Analysis State\n",
    "\n",
    "Save the complete analysis state and results."
   ]
  },
  {
   "cell_type": "code",
   "execution_count": 6,
   "metadata": {
    "vscode": {
     "languageId": "r"
    }
   },
   "outputs": [
    {
     "name": "stdout",
     "output_type": "stream",
     "text": [
      "[2024-11-04 02:58:58] Created temp directory for MetaboAnalystR files\n",
      "[2024-11-04 02:58:58] Moved complete_norm.qs to temp directory\n",
      "[2024-11-04 02:58:58] Moved data_orig.qs to temp directory\n",
      "[2024-11-04 02:58:58] Moved data_proc.qs to temp directory\n",
      "[2024-11-04 02:58:58] Moved prenorm.qs to temp directory\n",
      "[2024-11-04 02:58:58] Moved preproc.qs to temp directory\n",
      "[2024-11-04 02:58:58] Moved row_norm.qs to temp directory\n",
      "[2024-11-04 02:58:58] Moved pca_loadings.csv to temp directory\n",
      "[2024-11-04 02:58:58] Moved pca_score.csv to temp directory\n",
      "[2024-11-04 02:58:58] Moved raw_dataview.csv to temp directory\n",
      "[2024-11-04 02:58:59] Saved complete analysis state and session information\n",
      "[2024-11-04 02:58:59] Created analysis summary\n",
      "\n",
      "Analysis Complete!\n",
      "Results have been saved to the following directories:\n",
      "- Processed data: data/processed/\n",
      "- Plots: plots/\n",
      "- Results: results/\n",
      "- Temporary files: data/temp/\n",
      "\n",
      "To clean up temporary files later, use: cleanup_temp()\n"
     ]
    }
   ],
   "source": [
    "# Create temp directory if it doesn't exist\n",
    "temp_dir <- get_path(\"data/temp\")\n",
    "if (!dir.exists(temp_dir)) {\n",
    "    dir.create(temp_dir, recursive = TRUE)\n",
    "    log_process(\"Created temp directory for MetaboAnalystR files\")\n",
    "}\n",
    "\n",
    "# List of known MetaboAnalystR temp files to handle\n",
    "temp_files <- c(\n",
    "    # QS files\n",
    "    \"complete_norm.qs\",\n",
    "    \"data_orig.qs\",\n",
    "    \"data_proc.qs\",\n",
    "    \"prenorm.qs\",\n",
    "    \"preproc.qs\",\n",
    "    \"row_norm.qs\",\n",
    "    # CSV files\n",
    "    \"pca_loadings.csv\",\n",
    "    \"pca_score.csv\",\n",
    "    \"raw_dataview.csv\"\n",
    ")\n",
    "\n",
    "# Move temp files to temp directory\n",
    "for (file in temp_files) {\n",
    "    if (file.exists(file)) {\n",
    "        file.rename(\n",
    "            file,\n",
    "            file.path(temp_dir, file)\n",
    "        )\n",
    "        log_process(sprintf(\"Moved %s to temp directory\", file))\n",
    "    }\n",
    "}\n",
    "\n",
    "# Save complete analysis state\n",
    "saveRDS(mSet, file = file.path(get_path(\"results\"), \"complete_analysis.rds\"))\n",
    "\n",
    "# Save session information\n",
    "writeLines(capture.output(sessionInfo()),\n",
    "          file.path(get_path(\"results\"), \"session_info.txt\"))\n",
    "\n",
    "log_process(\"Saved complete analysis state and session information\")\n",
    "\n",
    "# Create analysis summary\n",
    "summary <- c(\n",
    "    \"# Metabolomics Analysis Summary\",\n",
    "    paste(\"Date:\", Sys.Date()),\n",
    "    \"\",\n",
    "    \"## Dataset Information:\",\n",
    "    paste(\"Number of samples:\", nrow(norm_data)),\n",
    "    paste(\"Number of metabolites:\", ncol(norm_data)),\n",
    "    paste(\"Groups:\", paste(unique(groups), collapse = \", \")),\n",
    "    \"\",\n",
    "    \"## Processing Steps:\",\n",
    "    \"1. Data loading and sanity check\",\n",
    "    \"2. Minimum value replacement\",\n",
    "    \"3. Log transformation\",\n",
    "    \"4. Auto-scaling\",\n",
    "    \"5. PCA analysis\",\n",
    "    \"\",\n",
    "    \"## Output Files:\",\n",
    "    \"### Results Directory:\",\n",
    "    \"- Analysis state: results/complete_analysis.rds\",\n",
    "    \"- Analysis summary: results/analysis_summary.txt\",\n",
    "    \"- Session information: results/session_info.txt\",\n",
    "    \"\",\n",
    "    \"### Processed Data Directory:\",\n",
    "    \"- Normalized data: data/processed/normalized_data.csv\",\n",
    "    \"\",\n",
    "    \"### Plots Directory:\",\n",
    "    \"- PCA plot: plots/pca_scores_2d.png\",\n",
    "    \"\",\n",
    "    \"### Temporary Files (data/temp):\",\n",
    "    paste(\"-\", temp_files)\n",
    ")\n",
    "\n",
    "writeLines(summary, file.path(get_path(\"results\"), \"analysis_summary.txt\"))\n",
    "log_process(\"Created analysis summary\")\n",
    "\n",
    "# Cleanup function for later use\n",
    "cleanup_temp <- function() {\n",
    "    temp_files <- list.files(temp_dir, full.names = TRUE)\n",
    "    unlink(temp_files)\n",
    "    log_process(\"Cleaned up temporary files\")\n",
    "}\n",
    "\n",
    "cat(\"\\nAnalysis Complete!\\n\")\n",
    "cat(\"Results have been saved to the following directories:\\n\")\n",
    "cat(\"- Processed data: data/processed/\\n\")\n",
    "cat(\"- Plots: plots/\\n\")\n",
    "cat(\"- Results: results/\\n\")\n",
    "cat(\"- Temporary files: data/temp/\\n\")\n",
    "cat(\"\\nTo clean up temporary files later, use: cleanup_temp()\\n\")"
   ]
  },
  {
   "cell_type": "markdown",
   "metadata": {},
   "source": [
    "## Analysis Complete\n",
    "\n",
    "You have successfully:\n",
    "1. Created and processed a metabolomics dataset\n",
    "2. Performed data normalization\n",
    "3. Conducted PCA analysis\n",
    "4. Generated visualizations\n",
    "5. Saved all results and analysis state\n",
    "\n",
    "### Next Steps:\n",
    "1. Replace the example data with your own metabolomics data\n",
    "2. Adjust processing parameters as needed\n",
    "3. Explore additional analyses:\n",
    "   - Statistical tests\n",
    "   - Pathway analysis\n",
    "   - Biomarker identification\n",
    "\n",
    "### Resources:\n",
    "- MetaboAnalystR documentation: https://www.metaboanalyst.ca/docs/RTutorial.xhtml\n",
    "- Additional examples: See `docs/` directory\n",
    "- Troubleshooting: See `docs/troubleshooting.md`"
   ]
  }
 ],
 "metadata": {
  "kernelspec": {
   "display_name": "R",
   "language": "R",
   "name": "ir"
  },
  "language_info": {
   "codemirror_mode": "r",
   "file_extension": ".r",
   "mimetype": "text/x-r-source",
   "name": "R",
   "pygments_lexer": "r",
   "version": "4.3.3"
  }
 },
 "nbformat": 4,
 "nbformat_minor": 2
}
