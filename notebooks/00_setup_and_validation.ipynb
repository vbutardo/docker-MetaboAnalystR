{
 "cells": [
  {
   "cell_type": "markdown",
   "metadata": {},
   "source": [
    "# MetaboAnalystR Setup and Validation\n",
    "\n",
    "This notebook verifies your MetaboAnalystR environment setup and validates the installation. It includes:\n",
    "1. Environment verification\n",
    "2. Package checks\n",
    "3. Directory structure setup\n",
    "4. Basic functionality test\n",
    "\n",
    "Run each cell in sequence to validate your setup."
   ]
  },
  {
   "cell_type": "markdown",
   "metadata": {},
   "source": [
    "## 1. Initialize Project Structure\n",
    "\n",
    "Set up the working directory and create a helper function for path management."
   ]
  },
  {
   "cell_type": "code",
   "execution_count": 2,
   "metadata": {
    "vscode": {
     "languageId": "r"
    }
   },
   "outputs": [
    {
     "name": "stdout",
     "output_type": "stream",
     "text": [
      "[1] \"Project root directory:\"\n",
      "[1] \"/home/ubuntu/files/metaboanalystr-jupyter\"\n"
     ]
    }
   ],
   "source": [
    "# Set working directory to project root\n",
    "project_root <- normalizePath(\"..\")\n",
    "setwd(project_root)\n",
    "\n",
    "# Function to get subdirectory paths\n",
    "get_path <- function(subdir) {\n",
    "    file.path(project_root, subdir)\n",
    "}\n",
    "\n",
    "print(\"Project root directory:\")\n",
    "print(project_root)"
   ]
  },
  {
   "cell_type": "markdown",
   "metadata": {},
   "source": [
    "## 2. Environment Verification\n",
    "\n",
    "Check R version, library paths, and locale settings."
   ]
  },
  {
   "cell_type": "code",
   "execution_count": 3,
   "metadata": {
    "vscode": {
     "languageId": "r"
    }
   },
   "outputs": [
    {
     "name": "stdout",
     "output_type": "stream",
     "text": [
      "\n",
      "1. System Information:\n",
      "R Version: R version 4.3.3 (2024-02-29) \n",
      "Platform: x86_64-conda-linux-gnu \n",
      "OS: Linux \n",
      "\n",
      "2. Library Paths:\n",
      "[1] \"/home/ubuntu/miniconda3/envs/metaboanalystr/lib/R/library\"\n",
      "\n",
      "3. Locale Settings:\n",
      "[1] \"LC_CTYPE=en_AU.UTF-8;LC_NUMERIC=C;LC_TIME=en_AU.UTF-8;LC_COLLATE=en_AU.UTF-8;LC_MONETARY=en_AU.UTF-8;LC_MESSAGES=en_AU.UTF-8;LC_PAPER=en_AU.UTF-8;LC_NAME=C;LC_ADDRESS=C;LC_TELEPHONE=C;LC_MEASUREMENT=en_AU.UTF-8;LC_IDENTIFICATION=C\"\n"
     ]
    }
   ],
   "source": [
    "# System information\n",
    "cat(\"\\n1. System Information:\\n\")\n",
    "cat(\"R Version:\", R.version.string, \"\\n\")\n",
    "cat(\"Platform:\", R.version$platform, \"\\n\")\n",
    "cat(\"OS:\", Sys.info()[\"sysname\"], \"\\n\")\n",
    "\n",
    "# Library paths\n",
    "cat(\"\\n2. Library Paths:\\n\")\n",
    "print(.libPaths())\n",
    "\n",
    "# Locale settings\n",
    "cat(\"\\n3. Locale Settings:\\n\")\n",
    "print(Sys.getlocale())"
   ]
  },
  {
   "cell_type": "markdown",
   "metadata": {},
   "source": [
    "## 3. Package Verification\n",
    "\n",
    "Check for required packages and their versions."
   ]
  },
  {
   "cell_type": "code",
   "execution_count": 5,
   "metadata": {
    "vscode": {
     "languageId": "r"
    }
   },
   "outputs": [
    {
     "name": "stdout",
     "output_type": "stream",
     "text": [
      "Package Check:\n"
     ]
    },
    {
     "name": "stdout",
     "output_type": "stream",
     "text": [
      "MetaboAnalystR: v4.0.0 [✓]\n",
      "BiocManager: v1.30.25 [✓]\n",
      "Rserve: v1.8.13 [✓]\n",
      "IRkernel: v1.3.2 [✓]\n",
      "\n",
      "All required packages are installed! [✓]\n"
     ]
    }
   ],
   "source": [
    "# Function to check package version\n",
    "check_package <- function(pkg_name) {\n",
    "    if (pkg_name %in% rownames(installed.packages())) {\n",
    "        version <- packageVersion(pkg_name)\n",
    "        cat(sprintf(\"%s: v%s [✓]\\n\", pkg_name, version))\n",
    "        return(TRUE)\n",
    "    } else {\n",
    "        cat(sprintf(\"%s: Not installed [✗]\\n\", pkg_name))\n",
    "        return(FALSE)\n",
    "    }\n",
    "}\n",
    "\n",
    "# List of required packages\n",
    "required_packages <- c(\n",
    "    \"MetaboAnalystR\",\n",
    "    \"BiocManager\",\n",
    "    \"Rserve\",\n",
    "    \"IRkernel\"\n",
    ")\n",
    "\n",
    "cat(\"Package Check:\\n\")\n",
    "all_installed <- all(sapply(required_packages, check_package))\n",
    "\n",
    "if (all_installed) {\n",
    "    cat(\"\\nAll required packages are installed! [✓]\\n\")\n",
    "} else {\n",
    "    cat(\"\\nWarning: Some packages are missing. Please install them before proceeding. [✗]\\n\")\n",
    "}"
   ]
  },
  {
   "cell_type": "markdown",
   "metadata": {},
   "source": [
    "## 4. Directory Structure Setup\n",
    "\n",
    "Create and verify the project directory structure."
   ]
  },
  {
   "cell_type": "code",
   "execution_count": 6,
   "metadata": {
    "vscode": {
     "languageId": "r"
    }
   },
   "outputs": [
    {
     "name": "stdout",
     "output_type": "stream",
     "text": [
      "Directory Structure Check:\n",
      "data: Already exists [✓]\n",
      "data/processed: Already exists [✓]\n",
      "plots: Already exists [✓]\n",
      "results: Already exists [✓]\n",
      "notebooks: Already exists [✓]\n",
      "docs: Already exists [✓]\n",
      "tests: Already exists [✓]\n",
      "environment: Already exists [✓]\n",
      "\n",
      "Verifying write permissions:\n",
      "data: Writable [✓]\n",
      "data/processed: Writable [✓]\n",
      "plots: Writable [✓]\n",
      "results: Writable [✓]\n",
      "notebooks: Writable [✓]\n",
      "docs: Writable [✓]\n",
      "tests: Writable [✓]\n",
      "environment: Writable [✓]\n"
     ]
    }
   ],
   "source": [
    "# Define required directories\n",
    "required_dirs <- c(\n",
    "    \"data\",\n",
    "    \"data/processed\",  # Subdirectory for processed data\n",
    "    \"plots\",\n",
    "    \"results\",\n",
    "    \"notebooks\",\n",
    "    \"docs\",\n",
    "    \"tests\",\n",
    "    \"environment\"\n",
    ")\n",
    "\n",
    "# Create and verify directories\n",
    "cat(\"Directory Structure Check:\\n\")\n",
    "for (dir in required_dirs) {\n",
    "    dir_path <- get_path(dir)\n",
    "    if (!dir.exists(dir_path)) {\n",
    "        dir.create(dir_path, recursive = TRUE, showWarnings = FALSE)\n",
    "        if (dir.exists(dir_path)) {\n",
    "            cat(sprintf(\"%s: Created [✓]\\n\", dir))\n",
    "        } else {\n",
    "            cat(sprintf(\"%s: Creation failed [✗]\\n\", dir))\n",
    "        }\n",
    "    } else {\n",
    "        cat(sprintf(\"%s: Already exists [✓]\\n\", dir))\n",
    "    }\n",
    "}\n",
    "\n",
    "# Verify write permissions\n",
    "cat(\"\\nVerifying write permissions:\\n\")\n",
    "for (dir in required_dirs) {\n",
    "    dir_path <- get_path(dir)\n",
    "    test_file <- file.path(dir_path, \".test_write\")\n",
    "    if (file.create(test_file)) {\n",
    "        file.remove(test_file)\n",
    "        cat(sprintf(\"%s: Writable [✓]\\n\", dir))\n",
    "    } else {\n",
    "        cat(sprintf(\"%s: Not writable [✗]\\n\", dir))\n",
    "    }\n",
    "}"
   ]
  },
  {
   "cell_type": "markdown",
   "metadata": {},
   "source": [
    "## 5. MetaboAnalystR Functionality Test\n",
    "\n",
    "Test basic MetaboAnalystR functionality."
   ]
  },
  {
   "cell_type": "code",
   "execution_count": 7,
   "metadata": {
    "vscode": {
     "languageId": "r"
    }
   },
   "outputs": [
    {
     "name": "stderr",
     "output_type": "stream",
     "text": [
      "MetaboAnalystR 4.0.0 initialized Successfully !\n",
      "https://github.com/xia-lab/MetaboAnalystR\n",
      "\n"
     ]
    },
    {
     "name": "stdout",
     "output_type": "stream",
     "text": [
      "MetaboAnalystR v4.0.0 loaded successfully\n",
      "Starting Rserve:\n",
      " /home/ubuntu/miniconda3/envs/metaboanalystr/lib/R/bin/R CMD /home/ubuntu/miniconda3/envs/metaboanalystr/lib/R/library/Rserve/libs//Rserve --no-save \n",
      "\n",
      "[1] \"MetaboAnalyst R objects initialized ...\"\n",
      "InitDataObjects: Success [✓]\n",
      "Object properties: Valid [✓]\n"
     ]
    }
   ],
   "source": [
    "# Load MetaboAnalystR\n",
    "library(MetaboAnalystR)\n",
    "cat(sprintf(\"MetaboAnalystR v%s loaded successfully\\n\", packageVersion(\"MetaboAnalystR\")))\n",
    "\n",
    "# Basic initialization test\n",
    "tryCatch({\n",
    "    mSet <- InitDataObjects(\"pktable\", \"stat\", FALSE)\n",
    "    cat(\"InitDataObjects: Success [✓]\\n\")\n",
    "    \n",
    "    # Test basic object properties\n",
    "    if (!is.null(mSet$dataSet) && !is.null(mSet$analSet)) {\n",
    "        cat(\"Object properties: Valid [✓]\\n\")\n",
    "    } else {\n",
    "        cat(\"Object properties: Invalid [✗]\\n\")\n",
    "    }\n",
    "}, error = function(e) {\n",
    "    cat(sprintf(\"Initialization failed: %s [✗]\\n\", e$message))\n",
    "})"
   ]
  },
  {
   "cell_type": "markdown",
   "metadata": {},
   "source": [
    "## 6. Save Environment Summary\n",
    "\n",
    "Create a summary of the environment configuration."
   ]
  },
  {
   "cell_type": "code",
   "execution_count": 8,
   "metadata": {
    "vscode": {
     "languageId": "r"
    }
   },
   "outputs": [
    {
     "name": "stdout",
     "output_type": "stream",
     "text": [
      "Environment summary saved to: /home/ubuntu/files/metaboanalystr-jupyter/results/environment_summary.txt\n"
     ]
    }
   ],
   "source": [
    "# Create environment summary\n",
    "summary <- c(\n",
    "    \"# MetaboAnalystR Environment Summary\",\n",
    "    paste(\"Date:\", Sys.Date()),\n",
    "    paste(\"R Version:\", R.version.string),\n",
    "    paste(\"MetaboAnalystR Version:\", packageVersion(\"MetaboAnalystR\")),\n",
    "    paste(\"BiocManager Version:\", packageVersion(\"BiocManager\")),\n",
    "    paste(\"Working Directory:\", getwd()),\n",
    "    \"\",\n",
    "    \"## Directory Structure:\",\n",
    "    paste(\"-\", required_dirs),\n",
    "    \"\",\n",
    "    \"## System Information:\",\n",
    "    paste(\"OS:\", Sys.info()[\"sysname\"]),\n",
    "    paste(\"Platform:\", R.version$platform),\n",
    "    \"\",\n",
    "    \"## Session Information:\"\n",
    ")\n",
    "\n",
    "# Add session info\n",
    "session_info <- capture.output(sessionInfo())\n",
    "summary <- c(summary, session_info)\n",
    "\n",
    "# Write summary to file\n",
    "summary_file <- file.path(get_path(\"results\"), \"environment_summary.txt\")\n",
    "writeLines(summary, summary_file)\n",
    "cat(sprintf(\"Environment summary saved to: %s\\n\", summary_file))"
   ]
  },
  {
   "cell_type": "markdown",
   "metadata": {},
   "source": [
    "# Setup Validation Complete\n",
    "## Setup Validation Complete\n",
    "\n",
    "If you've reached this point without errors:\n",
    "1. ✓ R is properly installed\n",
    "2. ✓ Required packages are installed\n",
    "3. ✓ Directory structure is set up\n",
    "4. ✓ Basic MetaboAnalystR functionality is confirmed\n",
    "\n",
    "### Next Steps:\n",
    "1. Proceed to `01_metabolomics_workflow.ipynb`\n",
    "2. Start your metabolomics analysis\n",
    "\n",
    "### Troubleshooting:\n",
    "If you encountered any errors:\n",
    "1. Check the environment summary in `results/environment_summary.txt`\n",
    "2. Consult the documentation in `docs/troubleshooting.md`\n",
    "3. Verify R and package installations"
   ]
  }
 ],
 "metadata": {
  "kernelspec": {
   "display_name": "R",
   "language": "R",
   "name": "ir"
  },
  "language_info": {
   "codemirror_mode": "r",
   "file_extension": ".r",
   "mimetype": "text/x-r-source",
   "name": "R",
   "pygments_lexer": "r",
   "version": "4.3.3"
  }
 },
 "nbformat": 4,
 "nbformat_minor": 2
}
